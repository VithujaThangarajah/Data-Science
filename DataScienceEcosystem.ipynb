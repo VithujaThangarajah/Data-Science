{
  "metadata": {
    "kernelspec": {
      "name": "python",
      "display_name": "Python (Pyodide)",
      "language": "python"
    },
    "language_info": {
      "codemirror_mode": {
        "name": "python",
        "version": 3
      },
      "file_extension": ".py",
      "mimetype": "text/x-python",
      "name": "python",
      "nbconvert_exporter": "python",
      "pygments_lexer": "ipython3",
      "version": "3.8"
    }
  },
  "nbformat_minor": 4,
  "nbformat": 4,
  "cells": [
    {
      "cell_type": "code",
      "source": " # Exercise 2: Create markdown cell with title of the notebook",
      "metadata": {
        "trusted": true
      },
      "outputs": [],
      "execution_count": null
    },
    {
      "cell_type": "markdown",
      "source": "# H1: Data Science Tools and Ecosystem",
      "metadata": {}
    },
    {
      "cell_type": "code",
      "source": " # Exercise 3 - Create a markdown cell for an introduction",
      "metadata": {
        "trusted": true
      },
      "outputs": [],
      "execution_count": null
    },
    {
      "cell_type": "markdown",
      "source": "In this notebook, Data Science Tools and Ecosystem are summarized.",
      "metadata": {}
    },
    {
      "cell_type": "code",
      "source": "# Exercise 10 - Insert a markdown cell to list Objectives",
      "metadata": {
        "trusted": true
      },
      "outputs": [],
      "execution_count": null
    },
    {
      "cell_type": "markdown",
      "source": "**Objectives:**\n\n- List popular languages for data science.\n- List commonly used libraries used by data scientists.\n- List data science tools.\n- Evaluate arithmetic expressions.\n  ",
      "metadata": {}
    },
    {
      "cell_type": "code",
      "source": " # Exercise 4 - Create a markdown cell to list data science languages",
      "metadata": {
        "trusted": true
      },
      "outputs": [],
      "execution_count": null
    },
    {
      "cell_type": "markdown",
      "source": "Some of the popular languages that Data Scientists use are:\n\n1. Python\n2. R\n3. SQL\n4. Java\n5. Julia\n6. Scala\n7. C/C++\n8. Swift\n9. Go\n10. MATLAB",
      "metadata": {}
    },
    {
      "cell_type": "code",
      "source": " # Exercise 5 - Create a markdown cell to list data science libraries",
      "metadata": {
        "trusted": true
      },
      "outputs": [],
      "execution_count": null
    },
    {
      "cell_type": "markdown",
      "source": "Some of the commonly used libraries used by Data Scientists include:\n\n1. NumPy\n2. Pandas\n3. Matplotlib\n4. Seaborn\n5. Plotly\n6. Scikit-learn\n7. SciPy\n8. Keras\n9. TensorFlow\n10. PyTorch",
      "metadata": {}
    },
    {
      "cell_type": "code",
      "source": "# Exercise 6 - Create a markdown cell with a table of Data Science tools",
      "metadata": {
        "trusted": true
      },
      "outputs": [],
      "execution_count": null
    },
    {
      "cell_type": "markdown",
      "source": "| Data Science Tools |\n| ------------------ |\n| Jupyter Notebook |\n| RStudio |\n| Spyder |",
      "metadata": {}
    },
    {
      "cell_type": "code",
      "source": "# Exercise 7 - Create a markdown cell introducing arithmetic expression examples",
      "metadata": {
        "trusted": true
      },
      "outputs": [],
      "execution_count": null
    },
    {
      "cell_type": "markdown",
      "source": "### H3: Below are a few examples of evaluating arithmetic expressions in Python",
      "metadata": {}
    },
    {
      "cell_type": "code",
      "source": "# Exercise 8 - Create a code cell to multiply and add numbers",
      "metadata": {
        "trusted": true
      },
      "outputs": [],
      "execution_count": null
    },
    {
      "cell_type": "code",
      "source": "# This a simple arithmetic expression to mutiply then add integers.\n\n3*4+5",
      "metadata": {
        "trusted": true
      },
      "outputs": [
        {
          "execution_count": 1,
          "output_type": "execute_result",
          "data": {
            "text/plain": "17"
          },
          "metadata": {}
        }
      ],
      "execution_count": 1
    },
    {
      "cell_type": "code",
      "source": "# Exercise 9 - Create a code cell to convert minutes to hours",
      "metadata": {
        "trusted": true
      },
      "outputs": [],
      "execution_count": null
    },
    {
      "cell_type": "code",
      "source": "# This a simple arithmetic expression to mutiply then add integers.\n\nminutes = 200\nhours = minutes / 60\nhours",
      "metadata": {
        "trusted": true
      },
      "outputs": [
        {
          "execution_count": 1,
          "output_type": "execute_result",
          "data": {
            "text/plain": "3.3333333333333335"
          },
          "metadata": {}
        }
      ],
      "execution_count": 1
    },
    {
      "cell_type": "code",
      "source": "# Exercise 11 - Create a markdown cell to indicate the Author's name",
      "metadata": {
        "trusted": true
      },
      "outputs": [],
      "execution_count": null
    },
    {
      "cell_type": "markdown",
      "source": "## H2: Author\nVithuja Thangarajah",
      "metadata": {}
    }
  ]
}